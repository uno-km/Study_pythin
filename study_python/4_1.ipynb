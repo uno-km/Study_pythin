{
 "cells": [
  {
   "cell_type": "code",
   "execution_count": 16,
   "metadata": {},
   "outputs": [
    {
     "name": "stdout",
     "output_type": "stream",
     "text": [
      "185,500\n",
      "187,700\n",
      "186,300\n",
      "183,500\n"
     ]
    }
   ],
   "source": [
    "import requests\n",
    "from bs4 import BeautifulSoup\n",
    " \n",
    "url = \"https://finance.naver.com/item/main.nhn?code=263750\"\n",
    "result = requests.get(url)\n",
    "bs_obj = BeautifulSoup(result.content, \"html.parser\")\n",
    " \n",
    "#close 종가(전일)\n",
    "td_first = bs_obj.find(\"td\", {\"class\": \"first\"})  # 태그 td, 속성값 first 찾기\n",
    "blind = td_first.find(\"span\", {\"class\": \"blind\"})  # 태그 span, 속성값 blind 찾기\n",
    "close = blind.text\n",
    " \n",
    "# high 고가\n",
    "table = bs_obj.find(\"table\", {\"class\": \"no_info\"})  # 태그 table, 속성값 no_info 찾기\n",
    "trs = table.find_all(\"tr\")  # tr을 list로 []\n",
    "first_tr = trs[0]  # 첫 번째 tr 지정\n",
    "tds = first_tr.find_all(\"td\")  # 첫 번째 tr 안에서 td를 list로\n",
    "second_tds = tds[1]  # 두 번째 td 지정\n",
    "high = second_tds.find(\"span\", {\"class\": \"blind\"}).text\n",
    " \n",
    "# open 시가\n",
    "second_tr = trs[1]  # 두 번째 tr 지정\n",
    "tds_second_tr = second_tr.find_all(\"td\")  # 두 번째 tr 안에서 td를 list로\n",
    "first_td_in_second_tr = tds_second_tr[0]  # 첫 번째 td 지정\n",
    "open = first_td_in_second_tr.find(\"span\", {\"class\": \"blind\"}).text\n",
    " \n",
    "# low 저가\n",
    "second_td_in_second_tr = tds_second_tr[1]  # 두 번째 td 지정\n",
    "low = second_td_in_second_tr.find(\"span\", {\"class\": \"blind\"}).text\n",
    " \n",
    "print(close)\n",
    "print(high)\n",
    "print(open)\n",
    "print(low)"
   ]
  },
  {
   "cell_type": "code",
   "execution_count": null,
   "metadata": {},
   "outputs": [],
   "source": []
  }
 ],
 "metadata": {
  "kernelspec": {
   "display_name": "Python 3",
   "language": "python",
   "name": "python3"
  },
  "language_info": {
   "codemirror_mode": {
    "name": "ipython",
    "version": 3
   },
   "file_extension": ".py",
   "mimetype": "text/x-python",
   "name": "python",
   "nbconvert_exporter": "python",
   "pygments_lexer": "ipython3",
   "version": "3.7.4"
  }
 },
 "nbformat": 4,
 "nbformat_minor": 2
}
